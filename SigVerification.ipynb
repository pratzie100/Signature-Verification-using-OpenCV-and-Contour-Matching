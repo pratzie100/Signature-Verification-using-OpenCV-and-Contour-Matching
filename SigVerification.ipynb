{
 "cells": [
  {
   "cell_type": "code",
   "execution_count": 3,
   "id": "a273b651-f724-4134-b481-2f856069ad03",
   "metadata": {},
   "outputs": [
    {
     "name": "stdout",
     "output_type": "stream",
     "text": [
      "Writing SigVerification.py\n"
     ]
    }
   ],
   "source": [
    "%%writefile SigVerification.py\n",
    "\n",
    "import cv2\n",
    "\n",
    "# Load the reference signature image\n",
    "reference_image = cv2.imread('original_signature.jpg', 0)\n",
    "\n",
    "# Load the test signature image\n",
    "test_image = cv2.imread(\"Test_signature2.jpg\", 0)\n",
    "\n",
    "# Check if the images are loaded correctly\n",
    "if reference_image is None:\n",
    "    print(\"Error loading original_signature.jpg\")\n",
    "if test_image is None:\n",
    "    print(\"Error loading Test_signature2.jpg\")\n",
    "\n",
    "# Apply binary thresholding to the images\n",
    "ret, reference_image = cv2.threshold(reference_image, 127, 255, cv2.THRESH_BINARY)\n",
    "ret, test_image = cv2.threshold(test_image, 127, 255, cv2.THRESH_BINARY)\n",
    "\n",
    "# Find the contours in the reference image\n",
    "reference_contours, _ = cv2.findContours(reference_image, cv2.RETR_EXTERNAL, cv2.CHAIN_APPROX_SIMPLE)\n",
    "\n",
    "# Find the contours in the test image\n",
    "test_contours, _ = cv2.findContours(test_image, cv2.RETR_EXTERNAL, cv2.CHAIN_APPROX_SIMPLE)\n",
    "\n",
    "# Get the largest contour in the reference image\n",
    "reference_contour = max(reference_contours, key=cv2.contourArea)\n",
    "\n",
    "# Get the largest contour in the test image\n",
    "test_contour = max(test_contours, key=cv2.contourArea)\n",
    "\n",
    "# Calculate the similarity between the two contours\n",
    "score = cv2.matchShapes(reference_contour, test_contour, 1, 0.0)\n",
    "\n",
    "# Set the threshold for the similarity score\n",
    "threshold = 0.1\n",
    "\n",
    "# Print the result\n",
    "if score < threshold:\n",
    "    print('The test signature matches the reference signature.')\n",
    "else:\n",
    "    print('The test signature does not match the reference signature.')"
   ]
  },
  {
   "cell_type": "code",
   "execution_count": 5,
   "id": "fffe846c-afea-4d97-881d-1bc61dc6ab2f",
   "metadata": {},
   "outputs": [
    {
     "name": "stdout",
     "output_type": "stream",
     "text": [
      "The test signature does not match the reference signature.\n"
     ]
    }
   ],
   "source": [
    "%run SigVerification.py"
   ]
  },
  {
   "cell_type": "code",
   "execution_count": 6,
   "id": "bce8be18-c5c2-410e-9523-e02393a77e05",
   "metadata": {},
   "outputs": [
    {
     "name": "stdout",
     "output_type": "stream",
     "text": [
      "Overwriting SigVerification.py\n"
     ]
    }
   ],
   "source": [
    "%%writefile SigVerification.py\n",
    "\n",
    "import cv2\n",
    "\n",
    "# Load the reference signature image\n",
    "reference_image = cv2.imread('original_signature.jpg', 0)\n",
    "\n",
    "# Load the test signature image\n",
    "test_image = cv2.imread(\"Test_signature1.jpg\", 0)\n",
    "\n",
    "# Check if the images are loaded correctly\n",
    "if reference_image is None:\n",
    "    print(\"Error loading original_signature.jpg\")\n",
    "if test_image is None:\n",
    "    print(\"Error loading Test_signature2.jpg\")\n",
    "\n",
    "# Apply binary thresholding to the images\n",
    "ret, reference_image = cv2.threshold(reference_image, 127, 255, cv2.THRESH_BINARY)\n",
    "ret, test_image = cv2.threshold(test_image, 127, 255, cv2.THRESH_BINARY)\n",
    "\n",
    "# Find the contours in the reference image\n",
    "reference_contours, _ = cv2.findContours(reference_image, cv2.RETR_EXTERNAL, cv2.CHAIN_APPROX_SIMPLE)\n",
    "\n",
    "# Find the contours in the test image\n",
    "test_contours, _ = cv2.findContours(test_image, cv2.RETR_EXTERNAL, cv2.CHAIN_APPROX_SIMPLE)\n",
    "\n",
    "# Get the largest contour in the reference image\n",
    "reference_contour = max(reference_contours, key=cv2.contourArea)\n",
    "\n",
    "# Get the largest contour in the test image\n",
    "test_contour = max(test_contours, key=cv2.contourArea)\n",
    "\n",
    "# Calculate the similarity between the two contours\n",
    "score = cv2.matchShapes(reference_contour, test_contour, 1, 0.0)\n",
    "\n",
    "# Set the threshold for the similarity score\n",
    "threshold = 0.1\n",
    "\n",
    "# Print the result\n",
    "if score < threshold:\n",
    "    print('The test signature matches the reference signature.')\n",
    "else:\n",
    "    print('The test signature does not match the reference signature.')"
   ]
  },
  {
   "cell_type": "code",
   "execution_count": 7,
   "id": "9443a13c-0147-4fe9-bfad-95d1a6047dce",
   "metadata": {},
   "outputs": [
    {
     "name": "stdout",
     "output_type": "stream",
     "text": [
      "The test signature matches the reference signature.\n"
     ]
    }
   ],
   "source": [
    "%run SigVerification.py"
   ]
  },
  {
   "cell_type": "code",
   "execution_count": null,
   "id": "5cae19f9-4c81-43cf-9e46-d461a6c935fd",
   "metadata": {},
   "outputs": [],
   "source": []
  }
 ],
 "metadata": {
  "kernelspec": {
   "display_name": "Python 3 (ipykernel)",
   "language": "python",
   "name": "python3"
  },
  "language_info": {
   "codemirror_mode": {
    "name": "ipython",
    "version": 3
   },
   "file_extension": ".py",
   "mimetype": "text/x-python",
   "name": "python",
   "nbconvert_exporter": "python",
   "pygments_lexer": "ipython3",
   "version": "3.12.3"
  }
 },
 "nbformat": 4,
 "nbformat_minor": 5
}
